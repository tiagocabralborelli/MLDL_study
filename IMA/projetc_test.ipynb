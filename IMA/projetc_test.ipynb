{
 "cells": [
  {
   "cell_type": "markdown",
   "metadata": {},
   "source": [
    "Calculando similaridade entre sequencias"
   ]
  },
  {
   "cell_type": "code",
   "execution_count": 1,
   "metadata": {},
   "outputs": [],
   "source": [
    "import pandas as pd\n",
    "import numpy as np"
   ]
  },
  {
   "cell_type": "code",
   "execution_count": 2,
   "metadata": {},
   "outputs": [],
   "source": [
    "def Sequence_lignment(seqa , seqb, gap = -2, match = 1, mismatch = -1):\n",
    "    empty_matrix = np.zeros(shape = (len(seqb)+1,len(seqa)+1))\n",
    "    empty_matrix[0] = [j*gap for j in range(len(seqa)+1)]\n",
    "    empty_matrix[:,0] = [i*gap for i in range(len(seqb)+1)]\n",
    "    columns = [\"Zero_col\"]\n",
    "    for j in seqa:\n",
    "        columns.append(j)\n",
    "    index = [\"Zero_row\"]\n",
    "    for i in seqb:\n",
    "        index.append(i)\n",
    "    alig_matrix = pd.DataFrame(empty_matrix, columns=columns, index=index)\n",
    "    #Fill the matrix\n",
    "    for i in range(len(alig_matrix.index)):\n",
    "        for j in range(len(alig_matrix.columns)):\n",
    "            if i > 0 and j > 0:\n",
    "                #Get neighbors values\n",
    "                left = alig_matrix.iloc[i-1,j] + gap\n",
    "                upper = alig_matrix.iloc[i,j-1] + gap\n",
    "                #Diagonal\n",
    "                if alig_matrix.index[i] == alig_matrix.columns[j]:\n",
    "                    diagonal_value = alig_matrix.iloc[i-1,j-1] + match\n",
    "                else:\n",
    "                    diagonal_value = alig_matrix.iloc[i-1,j-1] + mismatch\n",
    "\n",
    "                alig_matrix.iloc[i,j] = np.max([left,upper,diagonal_value])\n",
    "    #Traceback\n",
    "    i = len(seqb)\n",
    "    j = len(seqa)\n",
    "    a = []\n",
    "    b = []\n",
    "    while i > 0 and j > 0:        \n",
    "        if alig_matrix.index[i] == alig_matrix.columns[j]:\n",
    "            a.append(seqa[j-1])\n",
    "            b.append(seqb[i-1])\n",
    "            i -= 1\n",
    "            j -= 1\n",
    "        else:\n",
    "            left = alig_matrix.iloc[i,j-1]\n",
    "            upper = alig_matrix.iloc[i-1,j]\n",
    "            diagonal_value = alig_matrix.iloc[i-1,j-1]\n",
    "            max_value = np.max([left,upper,diagonal_value]) \n",
    "            if max_value == upper:\n",
    "                a.append('-')\n",
    "                b.append(seqb[i-1])\n",
    "                j -= 1     \n",
    "            elif max_value == left:\n",
    "                a.append(seqa[j-1])\n",
    "                b.append('-')\n",
    "                j -= 1\n",
    "            elif max_value == diagonal_value:\n",
    "                a.append(seqa[j])\n",
    "                b.append(seqb[i])\n",
    "                i -= 1\n",
    "                j -= 1\n",
    "    print(\"\".join(a)[::-1])\n",
    "    print(\"\".join(b)[::-1])"
   ]
  },
  {
   "cell_type": "code",
   "execution_count": 6,
   "metadata": {},
   "outputs": [
    {
     "name": "stdout",
     "output_type": "stream",
     "text": [
      "ATGCTATGCT\n",
      "A-GCTA-GCT\n"
     ]
    }
   ],
   "source": [
    "Sequence_lignment(seqa = \"ATGCTATGCT\",seqb = \"AGCTAGCT\")"
   ]
  },
  {
   "cell_type": "code",
   "execution_count": null,
   "metadata": {},
   "outputs": [],
   "source": []
  }
 ],
 "metadata": {
  "interpreter": {
   "hash": "399b38b49e6ab1a4889ffee7f5ee0a7e8b0aa125582fa90335082459ce8e2781"
  },
  "kernelspec": {
   "display_name": "Python 3.8.8 ('base')",
   "language": "python",
   "name": "python3"
  },
  "language_info": {
   "codemirror_mode": {
    "name": "ipython",
    "version": 3
   },
   "file_extension": ".py",
   "mimetype": "text/x-python",
   "name": "python",
   "nbconvert_exporter": "python",
   "pygments_lexer": "ipython3",
   "version": "3.8.8"
  },
  "orig_nbformat": 4
 },
 "nbformat": 4,
 "nbformat_minor": 2
}
