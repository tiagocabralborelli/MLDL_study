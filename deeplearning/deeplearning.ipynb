{
 "cells": [
  {
   "cell_type": "code",
   "execution_count": 76,
   "metadata": {},
   "outputs": [],
   "source": [
    "from linear_algebra import Vector, dot\n",
    "import math \n",
    "from typing import List\n",
    "def step_function(x: float) -> float:\n",
    "    return 1.0 if x >= 0 else 0.0\n",
    "\n",
    "def perceptron_output(weights: Vector, bias: float, x: Vector) -> float:\n",
    "    \"\"\"Returns 1 if the perceptron 'fires', 0 if not\"\"\"\n",
    "    calculation = dot(weights, x) + bias\n",
    "    return step_function(calculation)\n"
   ]
  },
  {
   "cell_type": "code",
   "execution_count": 65,
   "metadata": {},
   "outputs": [
    {
     "name": "stdout",
     "output_type": "stream",
     "text": [
      "1.0\n",
      "0.0\n",
      "0.0\n",
      "0.0\n"
     ]
    }
   ],
   "source": [
    "#Porta AND\n",
    "and_weights = [2., 2]\n",
    "and_bias = -3.\n",
    "print(perceptron_output(and_weights, and_bias, [1, 1])) \n",
    "print(perceptron_output(and_weights, and_bias, [0, 1])) \n",
    "print(perceptron_output(and_weights, and_bias, [1, 0])) \n",
    "print(perceptron_output(and_weights, and_bias, [0, 0]))"
   ]
  },
  {
   "cell_type": "code",
   "execution_count": 67,
   "metadata": {},
   "outputs": [
    {
     "name": "stdout",
     "output_type": "stream",
     "text": [
      "1.0\n",
      "1.0\n",
      "1.0\n",
      "0.0\n"
     ]
    }
   ],
   "source": [
    "#Porta OR\n",
    "or_weights = [2., 2]\n",
    "or_bias = -1.\n",
    "print(perceptron_output(or_weights, or_bias, [1, 1])) \n",
    "print(perceptron_output(or_weights, or_bias, [0, 1])) \n",
    "print(perceptron_output(or_weights, or_bias, [1, 0])) \n",
    "print(perceptron_output(or_weights, or_bias, [0, 0]))"
   ]
  },
  {
   "cell_type": "code",
   "execution_count": 92,
   "metadata": {},
   "outputs": [],
   "source": [
    "def sigmoid(t: float) -> float:\n",
    "    return 1 / (1 + math.exp(-t))\n",
    "\n",
    "def neuron_output(weights,inputs): \n",
    "    return sigmoid(dot(weights,inputs))\n",
    "\n",
    "def feed_forward(neural_network: List[List[Vector]], input_vector: Vector) -> List[Vector]:\n",
    "    \"\"\"\n",
    "    Feeds the input vector through the neural network.\n",
    "    Returns the outputs of all layers (not just the last one).\n",
    "    \"\"\"\n",
    "    outputs: List[Vector] = []\n",
    "\n",
    "    for layer in neural_network:\n",
    "        input_with_bias = input_vector + [1]              # Add a constant.\n",
    "        output = [neuron_output(neuron, input_with_bias) for neuron in layer]                    # for each neuron.\n",
    "        outputs.append(output)                            # Add to results.\n",
    "\n",
    "        # Then the input to the next layer is the output of this one\n",
    "        input_vector = output\n",
    "\n",
    "    return outputs"
   ]
  },
  {
   "cell_type": "code",
   "execution_count": 93,
   "metadata": {},
   "outputs": [],
   "source": [
    "xor_network = [[[20., 20, -30], [20., 20, -10]][[-60., 60, -30]]]"
   ]
  },
  {
   "cell_type": "code",
   "execution_count": 102,
   "metadata": {},
   "outputs": [
    {
     "name": "stdout",
     "output_type": "stream",
     "text": [
      "[[20.0, 20, -30], [20.0, 20, -10]]\n",
      "[0, 0, 1]\n",
      "[9.357622968839299e-14, 4.5397868702434395e-05]\n",
      "[[-60.0, 60, -30]]\n",
      "[0, 0, 1]\n",
      "[9.357622968839299e-14]\n"
     ]
    }
   ],
   "source": [
    "outputs: List[Vector] = []\n",
    "input_vector = [0, 0]\n",
    "for layer in xor_network:\n",
    "    print(layer)\n",
    "    input_with_bias = input_vector + [1]\n",
    "    print(input_with_bias)            \n",
    "    output = [neuron_output(neuron, input_with_bias) for neuron in layer]\n",
    "    print(output)\n",
    "    # outputs.append(output)                            \n",
    "    # input_vector = output"
   ]
  },
  {
   "cell_type": "code",
   "execution_count": 100,
   "metadata": {},
   "outputs": [
    {
     "data": {
      "text/plain": [
       "[[9.357622968839299e-14, 4.5397868702434395e-05], [9.38314668300676e-14]]"
      ]
     },
     "execution_count": 100,
     "metadata": {},
     "output_type": "execute_result"
    }
   ],
   "source": [
    "feed_forward(neural_network = xor_network, input_vector = [0, 0])"
   ]
  },
  {
   "cell_type": "code",
   "execution_count": 95,
   "metadata": {},
   "outputs": [
    {
     "data": {
      "text/plain": [
       "[0, 0, 1]"
      ]
     },
     "execution_count": 95,
     "metadata": {},
     "output_type": "execute_result"
    }
   ],
   "source": [
    "[0,0] + [1]"
   ]
  },
  {
   "cell_type": "code",
   "execution_count": null,
   "metadata": {},
   "outputs": [],
   "source": []
  }
 ],
 "metadata": {
  "interpreter": {
   "hash": "a505838e3396c14669ead04797a6a96a43ac2839bc6b07120adebcacdfbac574"
  },
  "kernelspec": {
   "display_name": "Python 3.9.7 ('mldl')",
   "language": "python",
   "name": "python3"
  },
  "language_info": {
   "codemirror_mode": {
    "name": "ipython",
    "version": 3
   },
   "file_extension": ".py",
   "mimetype": "text/x-python",
   "name": "python",
   "nbconvert_exporter": "python",
   "pygments_lexer": "ipython3",
   "version": "3.9.7"
  },
  "orig_nbformat": 4
 },
 "nbformat": 4,
 "nbformat_minor": 2
}
