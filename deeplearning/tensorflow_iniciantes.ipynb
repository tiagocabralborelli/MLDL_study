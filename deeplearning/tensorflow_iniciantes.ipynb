{
 "cells": [
  {
   "cell_type": "code",
   "execution_count": null,
   "metadata": {},
   "outputs": [],
   "source": []
  }
 ],
 "metadata": {
  "interpreter": {
   "hash": "4becdc612f94a8bb0dff5d75e15c4e0f92aad7eb21d53035cab6eae2de717ed4"
  },
  "kernelspec": {
   "display_name": "Python 3.10.2 ('tensorflow')",
   "language": "python",
   "name": "python3"
  },
  "language_info": {
   "name": "python",
   "version": "3.10.2"
  },
  "orig_nbformat": 4
 },
 "nbformat": 4,
 "nbformat_minor": 2
}
